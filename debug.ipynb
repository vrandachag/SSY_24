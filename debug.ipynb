{
  "cells": [
    {
      "cell_type": "markdown",
      "metadata": {
        "id": "view-in-github",
        "colab_type": "text"
      },
      "source": [
        "<a href=\"https://colab.research.google.com/github/vrandachag/SSY_24/blob/main/debug.ipynb\" target=\"_parent\"><img src=\"https://colab.research.google.com/assets/colab-badge.svg\" alt=\"Open In Colab\"/></a>"
      ]
    },
    {
      "cell_type": "code",
      "source": [
        "!sudo apt install texlive-fonts-recommended"
      ],
      "metadata": {
        "colab": {
          "base_uri": "https://localhost:8080/"
        },
        "id": "jRG_HaXO62wg",
        "outputId": "19394abb-2ac8-4440-b67a-2cfcd8ab0857"
      },
      "execution_count": 1,
      "outputs": [
        {
          "output_type": "stream",
          "name": "stdout",
          "text": [
            "Reading package lists... Done\n",
            "Building dependency tree... Done\n",
            "Reading state information... Done\n",
            "texlive-fonts-recommended is already the newest version (2021.20220204-1).\n",
            "0 upgraded, 0 newly installed, 0 to remove and 45 not upgraded.\n"
          ]
        }
      ]
    },
    {
      "cell_type": "code",
      "source": [
        "!sudo apt install texlive-latex-extra"
      ],
      "metadata": {
        "colab": {
          "base_uri": "https://localhost:8080/"
        },
        "id": "Ku5ASgmr68ur",
        "outputId": "dbd1d8a2-210e-4848-96cf-c132f078a7f1"
      },
      "execution_count": 2,
      "outputs": [
        {
          "output_type": "stream",
          "name": "stdout",
          "text": [
            "Reading package lists... Done\n",
            "Building dependency tree... Done\n",
            "Reading state information... Done\n",
            "texlive-latex-extra is already the newest version (2021.20220204-1).\n",
            "0 upgraded, 0 newly installed, 0 to remove and 45 not upgraded.\n"
          ]
        }
      ]
    },
    {
      "cell_type": "code",
      "source": [
        "!sudo pip3 install pylatex\n",
        "!sudo pip3 install pdflatex==0.1.3\n",
        "!sudo apt-get install latexmk\n",
        "!sudo apt-get install -y texlive-latex-extra"
      ],
      "metadata": {
        "colab": {
          "base_uri": "https://localhost:8080/"
        },
        "id": "hiHwKey86KZr",
        "outputId": "cf54d9e8-da53-4989-bb64-9bf4e24d6328"
      },
      "execution_count": 3,
      "outputs": [
        {
          "output_type": "stream",
          "name": "stdout",
          "text": [
            "Requirement already satisfied: pylatex in /usr/local/lib/python3.10/dist-packages (1.4.2)\n",
            "Requirement already satisfied: ordered-set in /usr/local/lib/python3.10/dist-packages (from pylatex) (4.1.0)\n",
            "Requirement already satisfied: pdflatex==0.1.3 in /usr/local/lib/python3.10/dist-packages (0.1.3)\n",
            "Requirement already satisfied: attrs<19.0,>=18.2 in /usr/local/lib/python3.10/dist-packages (from pdflatex==0.1.3) (18.2.0)\n",
            "Reading package lists... Done\n",
            "Building dependency tree... Done\n",
            "Reading state information... Done\n",
            "latexmk is already the newest version (1:4.76-1).\n",
            "0 upgraded, 0 newly installed, 0 to remove and 45 not upgraded.\n",
            "Reading package lists... Done\n",
            "Building dependency tree... Done\n",
            "Reading state information... Done\n",
            "texlive-latex-extra is already the newest version (2021.20220204-1).\n",
            "0 upgraded, 0 newly installed, 0 to remove and 45 not upgraded.\n"
          ]
        }
      ]
    },
    {
      "cell_type": "code",
      "execution_count": 4,
      "metadata": {
        "id": "QM0vmbnvKQQq",
        "colab": {
          "base_uri": "https://localhost:8080/"
        },
        "outputId": "ac5afd23-618f-4382-ba60-12b78eee228a",
        "collapsed": true
      },
      "outputs": [
        {
          "output_type": "stream",
          "name": "stdout",
          "text": [
            "Requirement already satisfied: PyLaTeX in /usr/local/lib/python3.10/dist-packages (1.4.2)\n",
            "Requirement already satisfied: ordered-set in /usr/local/lib/python3.10/dist-packages (from PyLaTeX) (4.1.0)\n"
          ]
        }
      ],
      "source": [
        "!pip install PyLaTeX"
      ]
    },
    {
      "cell_type": "code",
      "source": [
        "!pip install pdflatex"
      ],
      "metadata": {
        "colab": {
          "base_uri": "https://localhost:8080/"
        },
        "id": "wtDyim8CqOqB",
        "outputId": "055c31c7-47a2-4242-c9cc-d84a4e62a613",
        "collapsed": true
      },
      "execution_count": 5,
      "outputs": [
        {
          "output_type": "stream",
          "name": "stdout",
          "text": [
            "Requirement already satisfied: pdflatex in /usr/local/lib/python3.10/dist-packages (0.1.3)\n",
            "Requirement already satisfied: attrs<19.0,>=18.2 in /usr/local/lib/python3.10/dist-packages (from pdflatex) (18.2.0)\n"
          ]
        }
      ]
    },
    {
      "cell_type": "code",
      "execution_count": 6,
      "metadata": {
        "id": "FrFQ494iKsYI",
        "colab": {
          "base_uri": "https://localhost:8080/"
        },
        "outputId": "c74728bb-670c-476a-c1c4-287c80d19b00"
      },
      "outputs": [
        {
          "output_type": "stream",
          "name": "stdout",
          "text": [
            "Drive already mounted at /content/gdrive; to attempt to forcibly remount, call drive.mount(\"/content/gdrive\", force_remount=True).\n"
          ]
        }
      ],
      "source": [
        "from google.colab import drive\n",
        "drive.mount('/content/gdrive')"
      ]
    },
    {
      "cell_type": "code",
      "execution_count": 7,
      "metadata": {
        "id": "uAcSeZ5DVbAV",
        "colab": {
          "base_uri": "https://localhost:8080/"
        },
        "outputId": "50bcf18c-e1b4-492a-b440-b28e367ec0e1"
      },
      "outputs": [
        {
          "output_type": "stream",
          "name": "stderr",
          "text": [
            "WARNING:root:pydrive is deprecated and no longer maintained. We recommend that you migrate your projects to pydrive2, the maintained fork of pydrive\n"
          ]
        }
      ],
      "source": [
        "import xlrd\n",
        "import os\n",
        "import pandas as pd\n",
        "import numpy as np\n",
        "import urllib.request\n",
        "import cv2\n",
        "from google.oauth2 import service_account\n",
        "from googleapiclient.discovery import build\n",
        "from pylatex import Document, Section, Figure, NoEscape, Command\n",
        "from pylatex.utils import NoEscape\n",
        "import gspread as gs\n",
        "import requests\n",
        "import re\n",
        "from PIL import Image\n",
        "from io import BytesIO\n",
        "import json\n",
        "import google.auth.transport.requests\n",
        "from google.oauth2.credentials import Credentials\n",
        "from google_auth_oauthlib.flow import InstalledAppFlow\n",
        "from pydrive.auth import GoogleAuth\n",
        "from pydrive.drive import GoogleDrive\n",
        "# from pylatex import Document, Section, Subsection, Figure, NoEscape, Command\n",
        "# from pylatex.utils import bold, italic"
      ]
    },
    {
      "cell_type": "code",
      "execution_count": 8,
      "metadata": {
        "id": "uKvIEkGBj9Xa"
      },
      "outputs": [],
      "source": [
        "df = pd.read_excel(\"/content/gdrive/MyDrive/SSY_SEVA_24/IDY -2024 - small.xlsx\")"
      ]
    },
    {
      "cell_type": "code",
      "execution_count": 9,
      "metadata": {
        "id": "2e_y85NccFC7"
      },
      "outputs": [],
      "source": [
        "# df.set_index(['Country','State'], inplace=True)"
      ]
    },
    {
      "cell_type": "code",
      "execution_count": 10,
      "metadata": {
        "id": "UxeZ_WSmcVQF"
      },
      "outputs": [],
      "source": [
        "filtered_df = df[df['Country'] == 'India']"
      ]
    },
    {
      "cell_type": "code",
      "execution_count": 11,
      "metadata": {
        "id": "q4IP2f4JdQyS"
      },
      "outputs": [],
      "source": [
        "sorted_df = filtered_df.sort_values(by=['State'])"
      ]
    },
    {
      "cell_type": "code",
      "source": [
        "sorted_df.shape"
      ],
      "metadata": {
        "colab": {
          "base_uri": "https://localhost:8080/"
        },
        "id": "L5p68jVO8XGW",
        "outputId": "dd47870b-147b-434f-b176-9ce952272399"
      },
      "execution_count": 12,
      "outputs": [
        {
          "output_type": "execute_result",
          "data": {
            "text/plain": [
              "(3, 36)"
            ]
          },
          "metadata": {},
          "execution_count": 12
        }
      ]
    },
    {
      "cell_type": "code",
      "execution_count": 13,
      "metadata": {
        "id": "aYn82OcmnWLh",
        "colab": {
          "base_uri": "https://localhost:8080/"
        },
        "outputId": "c2a3c85d-4981-49d9-c9d4-f53420d365fd"
      },
      "outputs": [
        {
          "output_type": "execute_result",
          "data": {
            "text/plain": [
              "Index(['Unnamed: 0', 'Timestamp', 'Country', 'State', 'Organiser's Name(s)',\n",
              "       'Organiser's Email ', 'Organiser's Mobile Number',\n",
              "       'Organiser's Teacher/Volunteer Code',\n",
              "       'Venue/Institute Name (Name of the place where event was organised)\\n',\n",
              "       'Type of Institute', 'Name of the Institute Contact Person',\n",
              "       'Telephone Number of the Institute Contact Person',\n",
              "       'City/Town Organised in\\n', 'No. of Participants\\n',\n",
              "       'Date of the event', 'Upload Max 2 Pictures of the Event',\n",
              "       'Upload a video of the Event', 'Chief Guest Name ',\n",
              "       'Name of the Country', 'Organiser's Name(s).', 'Organiser's Email.',\n",
              "       'Organiser's Mobile Number.', 'Organiser's Teacher/Volunteer Code.',\n",
              "       'Venue/Institute Name (Name of the place where event was organised).\\n',\n",
              "       'Type of Institute.', 'Name of the Institute Contact Person.',\n",
              "       'Telephone Number of the Institute Contact Person.',\n",
              "       'City/Town Organised in.\\n', 'Number of Participants',\n",
              "       'Date of the event.', 'Upload 2 Pictures of the event.',\n",
              "       'Upload a Video of the event.', 'Chief Guest Name.',\n",
              "       'Name of the Continent', 'Upload Media Coverage/Certificates (if any)',\n",
              "       'Upload Media Coverage/Certificates (if any).1'],\n",
              "      dtype='object')"
            ]
          },
          "metadata": {},
          "execution_count": 13
        }
      ],
      "source": [
        "sorted_df.columns"
      ]
    },
    {
      "cell_type": "code",
      "execution_count": 14,
      "metadata": {
        "id": "iDgvF4irxjxO"
      },
      "outputs": [],
      "source": [
        "def convert_drive_link(shared_link):\n",
        "    # Check if the link contains 'open?id=' format\n",
        "    if 'open?id=' in shared_link:\n",
        "        file_id = shared_link.split('open?id=')[-1]\n",
        "    elif '/d/' in shared_link:\n",
        "        # Handle if the link is already in the direct access format\n",
        "        file_id = shared_link.split('/d/')[-1].split('/')[0]\n",
        "    else:\n",
        "        raise ValueError(\"The provided link is not a valid Google Drive link.\")\n",
        "\n",
        "    # Construct the direct access link\n",
        "    direct_access_link = f\"https://drive.google.com/file/d/{file_id}/view\"\n",
        "    return direct_access_link"
      ]
    },
    {
      "cell_type": "code",
      "execution_count": 15,
      "metadata": {
        "id": "CBKqTq_Fu484"
      },
      "outputs": [],
      "source": [
        "# Define the scope\n",
        "SCOPES = ['https://www.googleapis.com/auth/drive.metadata.readonly']\n",
        "\n",
        "# Path to your service account key file\n",
        "SERVICE_ACCOUNT_FILE = '/content/gdrive/MyDrive/SSY_SEVA_24/ssy-seva-24.json'\n",
        "\n",
        "# Extract the file ID from the provided Google Drive link\n",
        "def extract_file_id(drive_link):\n",
        "    match = re.search(r'/d/([a-zA-Z0-9_-]+)', drive_link)\n",
        "    if match:\n",
        "        return match.group(1)\n",
        "    else:\n",
        "        raise ValueError(\"Invalid Google Drive link\")\n",
        "\n",
        "# Fetch the file name using Google Drive API\n",
        "def get_file_name(file_id):\n",
        "    # Authenticate with the service account\n",
        "    credentials = service_account.Credentials.from_service_account_file(\n",
        "        SERVICE_ACCOUNT_FILE, scopes=SCOPES)\n",
        "\n",
        "    # Build the Google Drive service\n",
        "    service = build('drive', 'v3', credentials=credentials)\n",
        "\n",
        "    # Get the file metadata\n",
        "    file = service.files().get(fileId=file_id, fields='name').execute()\n",
        "\n",
        "    return file.get('name')"
      ]
    },
    {
      "cell_type": "code",
      "execution_count": 16,
      "metadata": {
        "id": "VW0gjl-zdnkG"
      },
      "outputs": [],
      "source": [
        "# Create a new LaTeX document\n",
        "doc = Document(documentclass='article')"
      ]
    },
    {
      "cell_type": "code",
      "execution_count": 17,
      "metadata": {
        "id": "_GP1-Y_KurMI",
        "colab": {
          "base_uri": "https://localhost:8080/"
        },
        "outputId": "6ba21183-96a8-4586-e644-d8297b9948ff"
      },
      "outputs": [
        {
          "output_type": "stream",
          "name": "stdout",
          "text": [
            "image_path ['https://drive.google.com/open?id=1V2ncuLUasw13JkJZyEZqggbAKbQX4drH', ' https://drive.google.com/open?id=1saiMCIBTXSrcQd8LJRbB8HjEvhwVOZzW', ' https://drive.google.com/open?id=1FCuhLH0u_eZm6r-UnmGozKC3-ZHRjAFK']\n",
            "Hello why are you not working\n",
            "https://drive.google.com/open?id=1V2ncuLUasw13JkJZyEZqggbAKbQX4drH\n",
            "file id: 1V2ncuLUasw13JkJZyEZqggbAKbQX4drH\n",
            "file name: IMG-20240607-WA0027 - Rushikesh Aoley.jpg\n",
            "The file name is: IMG-20240607-WA0027 - Rushikesh Aoley.jpg\n",
            "Hello image writing\n",
            " https://drive.google.com/open?id=1saiMCIBTXSrcQd8LJRbB8HjEvhwVOZzW\n",
            "file id: 1saiMCIBTXSrcQd8LJRbB8HjEvhwVOZzW\n",
            "file name: IMG-20240607-WA0024 - Rushikesh Aoley.jpg\n",
            "The file name is: IMG-20240607-WA0024 - Rushikesh Aoley.jpg\n",
            "Hello image writing\n",
            " https://drive.google.com/open?id=1FCuhLH0u_eZm6r-UnmGozKC3-ZHRjAFK\n",
            "file id: 1FCuhLH0u_eZm6r-UnmGozKC3-ZHRjAFK\n",
            "file name: IMG-20240607-WA0025 - Rushikesh Aoley.jpg\n",
            "The file name is: IMG-20240607-WA0025 - Rushikesh Aoley.jpg\n",
            "Hello image writing\n",
            "image_path ['https://drive.google.com/open?id=1CbXPyDR1d3xzu236lyMzEjTXtVF-eIAV', ' https://drive.google.com/open?id=1W8Yib6fqEcH0bLUT5AExxW8zt8AbXh6s']\n",
            "Hello why are you not working\n",
            "https://drive.google.com/open?id=1CbXPyDR1d3xzu236lyMzEjTXtVF-eIAV\n",
            "file id: 1CbXPyDR1d3xzu236lyMzEjTXtVF-eIAV\n",
            "file name: WhatsApp Image 2024-06-14 at 3.53.40 PM - sunil jaisinghani.jpeg\n",
            "The file name is: WhatsApp Image 2024-06-14 at 3.53.40 PM - sunil jaisinghani.jpeg\n",
            "Hello image writing\n",
            " https://drive.google.com/open?id=1W8Yib6fqEcH0bLUT5AExxW8zt8AbXh6s\n",
            "file id: 1W8Yib6fqEcH0bLUT5AExxW8zt8AbXh6s\n",
            "file name: WhatsApp Image 2024-06-14 at 3.51.37 PM - sunil jaisinghani.jpeg\n",
            "The file name is: WhatsApp Image 2024-06-14 at 3.51.37 PM - sunil jaisinghani.jpeg\n",
            "Hello image writing\n",
            "image_path ['https://drive.google.com/open?id=1PZd5aePn8ocgfxB7WC35PS7_E8eJbw0u', ' https://drive.google.com/open?id=1nc3uuaQgjhmZlBGnuOg5cWTY94IrsuC7']\n",
            "Hello why are you not working\n",
            "https://drive.google.com/open?id=1PZd5aePn8ocgfxB7WC35PS7_E8eJbw0u\n",
            "file id: 1PZd5aePn8ocgfxB7WC35PS7_E8eJbw0u\n",
            "file name: IMG-20240528-WA0005 - Praag Bhardwaj.jpg\n",
            "The file name is: IMG-20240528-WA0005 - Praag Bhardwaj.jpg\n",
            "Hello image writing\n",
            " https://drive.google.com/open?id=1nc3uuaQgjhmZlBGnuOg5cWTY94IrsuC7\n",
            "file id: 1nc3uuaQgjhmZlBGnuOg5cWTY94IrsuC7\n",
            "file name: IMG-20240528-WA0002 - Praag Bhardwaj.jpg\n",
            "The file name is: IMG-20240528-WA0002 - Praag Bhardwaj.jpg\n",
            "Hello image writing\n"
          ]
        }
      ],
      "source": [
        "for state, group in sorted_df.groupby('State'):\n",
        "    #print(state,group)\n",
        "    with doc.create(Section(state)):\n",
        "        #to add column with number of participants\n",
        "        total_participants = group['No. of Participants\\n'].sum()\n",
        "        # print(\"doc create\")\n",
        "        # total_participants = 1000 #temp\n",
        "        num_venues = group['State'].nunique()\n",
        "        doc.append(NoEscape(f\"Outreach: {total_participants}\\n\"))\n",
        "        doc.append(NoEscape(f\"\\nVenue: {num_venues}\\n\"))\n",
        "\n",
        "        for index, row in group.iterrows():\n",
        "          image_path = row['Upload Max 2 Pictures of the Event'].split(',')\n",
        "          print(\"image_path\",image_path)\n",
        "          print(\"Hello why are you not working\")\n",
        "          for images in image_path:\n",
        "            print(images)\n",
        "            drive_link = convert_drive_link(images)\n",
        "            try:\n",
        "              file_id = extract_file_id(drive_link)\n",
        "              print(\"file id:\",file_id)\n",
        "              file_name = get_file_name(file_id)\n",
        "              print(\"file name:\",file_name)\n",
        "              print(f'The file name is: {file_name}')\n",
        "            except Exception as e:\n",
        "              print(f'An error occurred: {str(e)}')\n",
        "              continue #change\n",
        "            # Check if the file is an image\n",
        "            # if file_name.endswith('.jpg') or file_name.endswith('.jpeg') or file_name.endswith('.png'):\n",
        "            file_path = r'/content/gdrive/MyDrive/SSY_SEVA_24/National Pics/'+file_name\n",
        "            # Add the image\n",
        "            with doc.create(Figure(position='h!')) as fig:\n",
        "              print(\"Hello image writing\")\n",
        "              fig.add_image(file_path, width=NoEscape(r'0.8\\textwidth'))\n",
        "              # fig.add_image(file_path, width='100px')\n",
        "              venue_name = 'Venue/Institute Name (Name of the place where event was organised)\\n'\n",
        "              city_name = 'City/Town Organised in\\n'\n",
        "              fig.add_caption(f\"{row[venue_name]},{row[city_name]}\")\n",
        "              # fig.append(NoEscape(r'\\centering'))\n",
        "              fig.append(Command('vspace','0.3cm'))"
      ]
    },
    {
      "cell_type": "code",
      "source": [
        "doc.generate_tex()"
      ],
      "metadata": {
        "id": "a0vwklMg7r5a"
      },
      "execution_count": 18,
      "outputs": []
    },
    {
      "cell_type": "code",
      "execution_count": 19,
      "metadata": {
        "id": "o8fK7jzw3OtT",
        "colab": {
          "base_uri": "https://localhost:8080/",
          "height": 1000
        },
        "outputId": "8b542401-431c-42e3-c2a6-7d4f352a129c"
      },
      "outputs": [
        {
          "output_type": "stream",
          "name": "stdout",
          "text": [
            "This is pdfTeX, Version 3.141592653-2.6-1.40.22 (TeX Live 2022/dev/Debian) (preloaded format=pdflatex)\n",
            " restricted \\write18 enabled.\n",
            "entering extended mode\n",
            "(/content/gdrive/MyDrive/SSY_SEVA_24/idk_debug_00.tex\n",
            "LaTeX2e <2021-11-15> patch level 1\n",
            "L3 programming layer <2022-01-21>\n",
            "(/usr/share/texlive/texmf-dist/tex/latex/base/article.cls\n",
            "Document Class: article 2021/10/04 v1.4n Standard LaTeX document class\n",
            "(/usr/share/texlive/texmf-dist/tex/latex/base/size10.clo))\n",
            "(/usr/share/texlive/texmf-dist/tex/latex/base/fontenc.sty)\n",
            "(/usr/share/texlive/texmf-dist/tex/latex/base/inputenc.sty)\n",
            "(/usr/share/texmf/tex/latex/lm/lmodern.sty)\n",
            "(/usr/share/texlive/texmf-dist/tex/latex/base/textcomp.sty)\n",
            "(/usr/share/texlive/texmf-dist/tex/latex/lastpage/lastpage.sty)\n",
            "(/usr/share/texlive/texmf-dist/tex/latex/graphics/graphicx.sty\n",
            "(/usr/share/texlive/texmf-dist/tex/latex/graphics/keyval.sty)\n",
            "(/usr/share/texlive/texmf-dist/tex/latex/graphics/graphics.sty\n",
            "(/usr/share/texlive/texmf-dist/tex/latex/graphics/trig.sty)\n",
            "(/usr/share/texlive/texmf-dist/tex/latex/graphics-cfg/graphics.cfg)\n",
            "(/usr/share/texlive/texmf-dist/tex/latex/graphics-def/pdftex.def)))\n",
            "(/usr/share/texmf/tex/latex/lm/t1lmr.fd)\n",
            "(/usr/share/texlive/texmf-dist/tex/latex/l3backend/l3backend-pdftex.def)\n",
            "No file idk_debug_00.aux.\n",
            "(/usr/share/texlive/texmf-dist/tex/context/base/mkii/supp-pdf.mkii\n",
            "[Loading MPS to PDF converter (version 2006.09.02).]\n",
            ") (/usr/share/texlive/texmf-dist/tex/latex/epstopdf-pkg/epstopdf-base.sty\n",
            "(/usr/share/texlive/texmf-dist/tex/latex/latexconfig/epstopdf-sys.cfg))\n",
            "\n",
            "LaTeX Warning: Float too large for page by 95.80537pt on input line 27.\n",
            "\n",
            "\n",
            "LaTeX Warning: `!h' float specifier changed to `!ht'.\n",
            "\n",
            "\n",
            "LaTeX Warning: Float too large for page by 95.80537pt on input line 37.\n",
            "\n",
            "\n",
            "LaTeX Warning: `!h' float specifier changed to `!ht'.\n",
            "\n",
            "\n",
            "LaTeX Warning: Float too large for page by 95.80537pt on input line 47.\n",
            "\n",
            "\n",
            "LaTeX Warning: `!h' float specifier changed to `!ht'.\n",
            "\n",
            "\n",
            "LaTeX Warning: File `/content/gdrive/MyDrive/SSY_SEVA_24/National Pics/{WhatsAp\n",
            "p Image 2024-06-14 at 3.53.40 PM - sunil jaisinghani}.jpeg' not found on input \n",
            "line 61.\n",
            "\n",
            "\n",
            "! Package pdftex.def Error: File `/content/gdrive/MyDrive/SSY_SEVA_24/National \n",
            "Pics/{WhatsApp Image 2024-06-14 at 3.53.40 PM - sunil jaisinghani}.jpeg' not fo\n",
            "und: using draft setting.\n",
            "\n",
            "See the pdftex.def package documentation for explanation.\n",
            "Type  H <return>  for immediate help.\n",
            " ...                                              \n",
            "                                                  \n",
            "l.61 ...4 at 3.53.40 PM - sunil jaisinghani}.jpeg}\n",
            "                                                  %\n",
            "(/usr/share/texmf/tex/latex/lm/t1lmtt.fd)\n",
            "\n",
            "LaTeX Warning: `!h' float specifier changed to `!ht'.\n",
            "\n",
            "\n",
            "LaTeX Warning: File `/content/gdrive/MyDrive/SSY_SEVA_24/National Pics/{WhatsAp\n",
            "p Image 2024-06-14 at 3.51.37 PM - sunil jaisinghani}.jpeg' not found on input \n",
            "line 71.\n",
            "\n",
            "\n",
            "! Package pdftex.def Error: File `/content/gdrive/MyDrive/SSY_SEVA_24/National \n",
            "Pics/{WhatsApp Image 2024-06-14 at 3.51.37 PM - sunil jaisinghani}.jpeg' not fo\n",
            "und: using draft setting.\n",
            "\n",
            "See the pdftex.def package documentation for explanation.\n",
            "Type  H <return>  for immediate help.\n",
            " ...                                              \n",
            "                                                  \n",
            "l.71 ...4 at 3.51.37 PM - sunil jaisinghani}.jpeg}\n",
            "                                                  %\n",
            "\n",
            "LaTeX Warning: `!h' float specifier changed to `!ht'.\n",
            "\n",
            "\n",
            "LaTeX Warning: `!h' float specifier changed to `!ht'.\n",
            "\n",
            "\n",
            "LaTeX Warning: `!h' float specifier changed to `!ht'.\n",
            "\n",
            "\n",
            "AED: lastpage setting LastPage\n",
            "[1{/var/lib/texmf/fonts/map/pdftex/updmap/pdftex.map}] [2 </content/gdrive/MyDr\n",
            "ive/SSY_SEVA_24/National Pics/IMG-20240607-WA0027 - Rushikesh Aoley.jpg>]\n",
            "[3 </content/gdrive/MyDrive/SSY_SEVA_24/National Pics/IMG-20240607-WA0024 - Rus\n",
            "hikesh Aoley.jpg>] [4 </content/gdrive/MyDrive/SSY_SEVA_24/National Pics/IMG-20\n",
            "240607-WA0025 - Rushikesh Aoley.jpg>] [5] [6 </content/gdrive/MyDrive/SSY_SEVA_\n",
            "24/National Pics/IMG-20240528-WA0005 - Praag Bhardwaj.jpg>] [7 </content/gdrive\n",
            "/MyDrive/SSY_SEVA_24/National Pics/IMG-20240528-WA0002 - Praag Bhardwaj.jpg>]\n",
            "(./idk_debug_00.aux)\n",
            "\n",
            "LaTeX Warning: Label(s) may have changed. Rerun to get cross-references right.\n",
            "\n",
            " )\n",
            "(see the transcript file for additional information){/usr/share/texmf/fonts/enc\n",
            "/dvips/lm/lm-ec.enc}</usr/share/texmf/fonts/type1/public/lm/lmbx12.pfb></usr/sh\n",
            "are/texmf/fonts/type1/public/lm/lmr10.pfb></usr/share/texmf/fonts/type1/public/\n",
            "lm/lmtt10.pfb>\n",
            "Output written on idk_debug_00.pdf (7 pages, 618180 bytes).\n",
            "Transcript written on idk_debug_00.log.\n",
            "\n"
          ]
        },
        {
          "output_type": "error",
          "ename": "CalledProcessError",
          "evalue": "Command '['pdflatex', '--interaction=nonstopmode', '/content/gdrive/MyDrive/SSY_SEVA_24/idk_debug_00.tex']' returned non-zero exit status 1.",
          "traceback": [
            "\u001b[0;31m---------------------------------------------------------------------------\u001b[0m",
            "\u001b[0;31mCalledProcessError\u001b[0m                        Traceback (most recent call last)",
            "\u001b[0;32m<ipython-input-19-f4d2b23552d7>\u001b[0m in \u001b[0;36m<cell line: 1>\u001b[0;34m()\u001b[0m\n\u001b[0;32m----> 1\u001b[0;31m \u001b[0mdoc\u001b[0m\u001b[0;34m.\u001b[0m\u001b[0mgenerate_pdf\u001b[0m\u001b[0;34m(\u001b[0m\u001b[0;34mr'/content/gdrive/MyDrive/SSY_SEVA_24/idk_debug_00'\u001b[0m\u001b[0;34m,\u001b[0m \u001b[0mclean_tex\u001b[0m\u001b[0;34m=\u001b[0m\u001b[0;32mFalse\u001b[0m\u001b[0;34m,\u001b[0m\u001b[0mcompiler\u001b[0m\u001b[0;34m=\u001b[0m\u001b[0;34m'pdflatex'\u001b[0m\u001b[0;34m)\u001b[0m\u001b[0;34m\u001b[0m\u001b[0;34m\u001b[0m\u001b[0m\n\u001b[0m",
            "\u001b[0;32m/usr/local/lib/python3.10/dist-packages/pylatex/document.py\u001b[0m in \u001b[0;36mgenerate_pdf\u001b[0;34m(self, filepath, clean, clean_tex, compiler, compiler_args, silent)\u001b[0m\n\u001b[1;32m    274\u001b[0m \u001b[0;34m\u001b[0m\u001b[0m\n\u001b[1;32m    275\u001b[0m             \u001b[0;32mtry\u001b[0m\u001b[0;34m:\u001b[0m\u001b[0;34m\u001b[0m\u001b[0;34m\u001b[0m\u001b[0m\n\u001b[0;32m--> 276\u001b[0;31m                 output = subprocess.check_output(\n\u001b[0m\u001b[1;32m    277\u001b[0m                     \u001b[0mcommand\u001b[0m\u001b[0;34m,\u001b[0m \u001b[0mstderr\u001b[0m\u001b[0;34m=\u001b[0m\u001b[0msubprocess\u001b[0m\u001b[0;34m.\u001b[0m\u001b[0mSTDOUT\u001b[0m\u001b[0;34m,\u001b[0m \u001b[0;34m**\u001b[0m\u001b[0mcheck_output_kwargs\u001b[0m\u001b[0;34m\u001b[0m\u001b[0;34m\u001b[0m\u001b[0m\n\u001b[1;32m    278\u001b[0m                 )\n",
            "\u001b[0;32m/usr/lib/python3.10/subprocess.py\u001b[0m in \u001b[0;36mcheck_output\u001b[0;34m(timeout, *popenargs, **kwargs)\u001b[0m\n\u001b[1;32m    419\u001b[0m         \u001b[0mkwargs\u001b[0m\u001b[0;34m[\u001b[0m\u001b[0;34m'input'\u001b[0m\u001b[0;34m]\u001b[0m \u001b[0;34m=\u001b[0m \u001b[0mempty\u001b[0m\u001b[0;34m\u001b[0m\u001b[0;34m\u001b[0m\u001b[0m\n\u001b[1;32m    420\u001b[0m \u001b[0;34m\u001b[0m\u001b[0m\n\u001b[0;32m--> 421\u001b[0;31m     return run(*popenargs, stdout=PIPE, timeout=timeout, check=True,\n\u001b[0m\u001b[1;32m    422\u001b[0m                **kwargs).stdout\n\u001b[1;32m    423\u001b[0m \u001b[0;34m\u001b[0m\u001b[0m\n",
            "\u001b[0;32m/usr/lib/python3.10/subprocess.py\u001b[0m in \u001b[0;36mrun\u001b[0;34m(input, capture_output, timeout, check, *popenargs, **kwargs)\u001b[0m\n\u001b[1;32m    524\u001b[0m         \u001b[0mretcode\u001b[0m \u001b[0;34m=\u001b[0m \u001b[0mprocess\u001b[0m\u001b[0;34m.\u001b[0m\u001b[0mpoll\u001b[0m\u001b[0;34m(\u001b[0m\u001b[0;34m)\u001b[0m\u001b[0;34m\u001b[0m\u001b[0;34m\u001b[0m\u001b[0m\n\u001b[1;32m    525\u001b[0m         \u001b[0;32mif\u001b[0m \u001b[0mcheck\u001b[0m \u001b[0;32mand\u001b[0m \u001b[0mretcode\u001b[0m\u001b[0;34m:\u001b[0m\u001b[0;34m\u001b[0m\u001b[0;34m\u001b[0m\u001b[0m\n\u001b[0;32m--> 526\u001b[0;31m             raise CalledProcessError(retcode, process.args,\n\u001b[0m\u001b[1;32m    527\u001b[0m                                      output=stdout, stderr=stderr)\n\u001b[1;32m    528\u001b[0m     \u001b[0;32mreturn\u001b[0m \u001b[0mCompletedProcess\u001b[0m\u001b[0;34m(\u001b[0m\u001b[0mprocess\u001b[0m\u001b[0;34m.\u001b[0m\u001b[0margs\u001b[0m\u001b[0;34m,\u001b[0m \u001b[0mretcode\u001b[0m\u001b[0;34m,\u001b[0m \u001b[0mstdout\u001b[0m\u001b[0;34m,\u001b[0m \u001b[0mstderr\u001b[0m\u001b[0;34m)\u001b[0m\u001b[0;34m\u001b[0m\u001b[0;34m\u001b[0m\u001b[0m\n",
            "\u001b[0;31mCalledProcessError\u001b[0m: Command '['pdflatex', '--interaction=nonstopmode', '/content/gdrive/MyDrive/SSY_SEVA_24/idk_debug_00.tex']' returned non-zero exit status 1."
          ]
        }
      ],
      "source": [
        "doc.generate_pdf(r'/content/gdrive/MyDrive/SSY_SEVA_24/idk_debug_00', clean_tex=False,compiler='pdflatex')"
      ]
    },
    {
      "cell_type": "code",
      "source": [
        "!pdflatex --interaction=nonstopmode /content/gdrive/MyDrive/SSY_SEVA_24/idk_01.tex"
      ],
      "metadata": {
        "id": "uAnS56DewJVd"
      },
      "execution_count": null,
      "outputs": []
    }
  ],
  "metadata": {
    "colab": {
      "provenance": [],
      "include_colab_link": true
    },
    "kernelspec": {
      "display_name": "Python 3",
      "name": "python3"
    },
    "language_info": {
      "name": "python"
    }
  },
  "nbformat": 4,
  "nbformat_minor": 0
}