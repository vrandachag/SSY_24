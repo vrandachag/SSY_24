{
  "nbformat": 4,
  "nbformat_minor": 0,
  "metadata": {
    "colab": {
      "provenance": []
    },
    "kernelspec": {
      "name": "python3",
      "display_name": "Python 3"
    },
    "language_info": {
      "name": "python"
    }
  },
  "cells": [
    {
      "cell_type": "code",
      "source": [
        "!sudo apt install texlive-latex-extra"
      ],
      "metadata": {
        "colab": {
          "base_uri": "https://localhost:8080/"
        },
        "id": "Wy1EvuNU4E9h",
        "outputId": "846d120a-ff7c-4954-a672-a9816f697ef6"
      },
      "execution_count": 40,
      "outputs": [
        {
          "output_type": "stream",
          "name": "stdout",
          "text": [
            "Reading package lists... Done\n",
            "Building dependency tree... Done\n",
            "Reading state information... Done\n",
            "texlive-latex-extra is already the newest version (2021.20220204-1).\n",
            "0 upgraded, 0 newly installed, 0 to remove and 45 not upgraded.\n"
          ]
        }
      ]
    },
    {
      "cell_type": "code",
      "source": [
        "!sudo apt install texlive-fonts-recommended"
      ],
      "metadata": {
        "colab": {
          "base_uri": "https://localhost:8080/"
        },
        "id": "4z-2_iK23jL-",
        "outputId": "81b94e2e-d818-4fb4-e1ec-acfd7f019d97"
      },
      "execution_count": 41,
      "outputs": [
        {
          "output_type": "stream",
          "name": "stdout",
          "text": [
            "Reading package lists... Done\n",
            "Building dependency tree... Done\n",
            "Reading state information... Done\n",
            "texlive-fonts-recommended is already the newest version (2021.20220204-1).\n",
            "0 upgraded, 0 newly installed, 0 to remove and 45 not upgraded.\n"
          ]
        }
      ]
    },
    {
      "cell_type": "code",
      "source": [
        "!sudo apt-get install texlive-latex-base"
      ],
      "metadata": {
        "colab": {
          "base_uri": "https://localhost:8080/"
        },
        "collapsed": true,
        "id": "pbVstJ2XNawg",
        "outputId": "b721f625-ba73-44b6-f297-72181100026a"
      },
      "execution_count": 42,
      "outputs": [
        {
          "output_type": "stream",
          "name": "stdout",
          "text": [
            "Reading package lists... Done\n",
            "Building dependency tree... Done\n",
            "Reading state information... Done\n",
            "texlive-latex-base is already the newest version (2021.20220204-1).\n",
            "0 upgraded, 0 newly installed, 0 to remove and 45 not upgraded.\n"
          ]
        }
      ]
    },
    {
      "cell_type": "code",
      "source": [
        "!pip install PyLaTeX"
      ],
      "metadata": {
        "colab": {
          "base_uri": "https://localhost:8080/"
        },
        "collapsed": true,
        "id": "QM0vmbnvKQQq",
        "outputId": "a411aca2-fb4c-41f2-fc1a-5c018e954e58"
      },
      "execution_count": 43,
      "outputs": [
        {
          "output_type": "stream",
          "name": "stdout",
          "text": [
            "Requirement already satisfied: PyLaTeX in /usr/local/lib/python3.10/dist-packages (1.4.2)\n",
            "Requirement already satisfied: ordered-set in /usr/local/lib/python3.10/dist-packages (from PyLaTeX) (4.1.0)\n"
          ]
        }
      ]
    },
    {
      "cell_type": "code",
      "source": [
        "from google.colab import drive\n",
        "drive.mount('/content/gdrive')"
      ],
      "metadata": {
        "colab": {
          "base_uri": "https://localhost:8080/"
        },
        "id": "FrFQ494iKsYI",
        "outputId": "b751d5e9-8481-40c9-88c3-e1b6798624a4"
      },
      "execution_count": 44,
      "outputs": [
        {
          "output_type": "stream",
          "name": "stdout",
          "text": [
            "Drive already mounted at /content/gdrive; to attempt to forcibly remount, call drive.mount(\"/content/gdrive\", force_remount=True).\n"
          ]
        }
      ]
    },
    {
      "cell_type": "code",
      "execution_count": 45,
      "metadata": {
        "id": "uAcSeZ5DVbAV"
      },
      "outputs": [],
      "source": [
        "import xlrd\n",
        "import os\n",
        "import pandas as pd\n",
        "import numpy as np\n",
        "import urllib.request\n",
        "import cv2\n",
        "from google.oauth2 import service_account\n",
        "from googleapiclient.discovery import build\n",
        "from pylatex import Document, Section, Figure, NoEscape, Command\n",
        "from pylatex.utils import NoEscape\n",
        "import gspread as gs\n",
        "import pandas as pd\n",
        "import requests\n",
        "import re\n",
        "from PIL import Image\n",
        "from io import BytesIO\n",
        "import json\n",
        "import google.auth.transport.requests\n",
        "from google.oauth2.credentials import Credentials\n",
        "from google_auth_oauthlib.flow import InstalledAppFlow"
      ]
    },
    {
      "cell_type": "code",
      "source": [
        "df = pd.read_excel(\"/content/gdrive/MyDrive/SSY_SEVA_24/IDY -2024 (Responses).xlsx\")"
      ],
      "metadata": {
        "id": "uKvIEkGBj9Xa"
      },
      "execution_count": 46,
      "outputs": []
    },
    {
      "cell_type": "code",
      "source": [
        "# df.set_index(['Country','State'], inplace=True)"
      ],
      "metadata": {
        "id": "2e_y85NccFC7"
      },
      "execution_count": null,
      "outputs": []
    },
    {
      "cell_type": "code",
      "source": [
        "filtered_df = df[df['Country'] == 'India']"
      ],
      "metadata": {
        "id": "UxeZ_WSmcVQF"
      },
      "execution_count": 47,
      "outputs": []
    },
    {
      "cell_type": "code",
      "source": [
        "sorted_df = filtered_df.sort_values(by=['State'])"
      ],
      "metadata": {
        "id": "q4IP2f4JdQyS"
      },
      "execution_count": 48,
      "outputs": []
    },
    {
      "cell_type": "code",
      "source": [
        "sorted_df.columns"
      ],
      "metadata": {
        "id": "aYn82OcmnWLh",
        "outputId": "5ed934e2-215f-4233-dc96-035dff19f45f",
        "colab": {
          "base_uri": "https://localhost:8080/"
        }
      },
      "execution_count": 49,
      "outputs": [
        {
          "output_type": "execute_result",
          "data": {
            "text/plain": [
              "Index(['Unnamed: 0', 'Timestamp', 'Country', 'State', 'Organiser's Name(s)',\n",
              "       'Organiser's Email ', 'Organiser's Mobile Number',\n",
              "       'Organiser's Teacher/Volunteer Code',\n",
              "       'Venue/Institute Name (Name of the place where event was organised)\\n',\n",
              "       'Type of Institute', 'Name of the Institute Contact Person',\n",
              "       'Telephone Number of the Institute Contact Person',\n",
              "       'City/Town Organised in\\n', 'No. of Participants\\n',\n",
              "       'Date of the event', 'Upload Max 2 Pictures of the Event',\n",
              "       'Upload a video of the Event', 'Chief Guest Name ',\n",
              "       'Name of the Country', 'Organiser's Name(s).', 'Organiser's Email.',\n",
              "       'Organiser's Mobile Number.', 'Organiser's Teacher/Volunteer Code.',\n",
              "       'Venue/Institute Name (Name of the place where event was organised).\\n',\n",
              "       'Type of Institute.', 'Name of the Institute Contact Person.',\n",
              "       'Telephone Number of the Institute Contact Person.',\n",
              "       'City/Town Organised in.\\n', 'Number of Participants',\n",
              "       'Date of the event.', 'Upload 2 Pictures of the event.',\n",
              "       'Upload a Video of the event.', 'Chief Guest Name.',\n",
              "       'Name of the Continent'],\n",
              "      dtype='object')"
            ]
          },
          "metadata": {},
          "execution_count": 49
        }
      ]
    },
    {
      "cell_type": "code",
      "source": [
        "def convert_drive_link(shared_link):\n",
        "    # Check if the link contains 'open?id=' format\n",
        "    if 'open?id=' in shared_link:\n",
        "        file_id = shared_link.split('open?id=')[-1]\n",
        "    elif '/d/' in shared_link:\n",
        "        # Handle if the link is already in the direct access format\n",
        "        file_id = shared_link.split('/d/')[-1].split('/')[0]\n",
        "    else:\n",
        "        raise ValueError(\"The provided link is not a valid Google Drive link.\")\n",
        "\n",
        "    # Construct the direct access link\n",
        "    direct_access_link = f\"https://drive.google.com/file/d/{file_id}/view\"\n",
        "    return direct_access_link"
      ],
      "metadata": {
        "id": "iDgvF4irxjxO"
      },
      "execution_count": 50,
      "outputs": []
    },
    {
      "cell_type": "code",
      "source": [
        "# Define the scope\n",
        "SCOPES = ['https://www.googleapis.com/auth/drive.metadata.readonly']\n",
        "\n",
        "# Path to your service account key file\n",
        "SERVICE_ACCOUNT_FILE = '/content/gdrive/MyDrive/SSY_SEVA_24/ssy-seva-24.json'\n",
        "\n",
        "# Extract the file ID from the provided Google Drive link\n",
        "def extract_file_id(drive_link):\n",
        "    match = re.search(r'/d/([a-zA-Z0-9_-]+)', drive_link)\n",
        "    if match:\n",
        "        return match.group(1)\n",
        "    else:\n",
        "        raise ValueError(\"Invalid Google Drive link\")\n",
        "\n",
        "# Fetch the file name using Google Drive API\n",
        "def get_file_name(file_id):\n",
        "    # Authenticate with the service account\n",
        "    credentials = service_account.Credentials.from_service_account_file(\n",
        "        SERVICE_ACCOUNT_FILE, scopes=SCOPES)\n",
        "\n",
        "    # Build the Google Drive service\n",
        "    service = build('drive', 'v3', credentials=credentials)\n",
        "\n",
        "    # Get the file metadata\n",
        "    file = service.files().get(fileId=file_id, fields='name').execute()\n",
        "\n",
        "    return file.get('name')"
      ],
      "metadata": {
        "id": "CBKqTq_Fu484"
      },
      "execution_count": 51,
      "outputs": []
    },
    {
      "cell_type": "code",
      "source": [
        "# Create a new LaTeX document\n",
        "doc = Document(documentclass='article')"
      ],
      "metadata": {
        "id": "VW0gjl-zdnkG"
      },
      "execution_count": 52,
      "outputs": []
    },
    {
      "cell_type": "code",
      "execution_count": 53,
      "metadata": {
        "colab": {
          "base_uri": "https://localhost:8080/"
        },
        "id": "_GP1-Y_KurMI",
        "outputId": "785c2673-ebfe-49ae-b86a-0cf9d5368463"
      },
      "outputs": [
        {
          "output_type": "stream",
          "name": "stdout",
          "text": [
            "image_path ['https://drive.google.com/open?id=1ujtMCh00tElzpVjdyFhBFQh2YhGBfSwm', ' https://drive.google.com/open?id=1JR_kNKwOfzAIyLu65tLGElFbfDnk2y3-']\n",
            "Hello why are you not working\n",
            "https://drive.google.com/open?id=1ujtMCh00tElzpVjdyFhBFQh2YhGBfSwm\n",
            "file id: 1ujtMCh00tElzpVjdyFhBFQh2YhGBfSwm\n",
            "file name: IMG-20240616-WA0038 - Banashree Saikia.jpg\n",
            "The file name is: IMG-20240616-WA0038 - Banashree Saikia.jpg\n",
            "Hello image writing\n",
            " https://drive.google.com/open?id=1JR_kNKwOfzAIyLu65tLGElFbfDnk2y3-\n",
            "file id: 1JR_kNKwOfzAIyLu65tLGElFbfDnk2y3-\n",
            "file name: IMG-20240616-WA0036 - Banashree Saikia.jpg\n",
            "The file name is: IMG-20240616-WA0036 - Banashree Saikia.jpg\n",
            "Hello image writing\n",
            "image_path ['https://drive.google.com/open?id=1V2ncuLUasw13JkJZyEZqggbAKbQX4drH', ' https://drive.google.com/open?id=1saiMCIBTXSrcQd8LJRbB8HjEvhwVOZzW', ' https://drive.google.com/open?id=1FCuhLH0u_eZm6r-UnmGozKC3-ZHRjAFK']\n",
            "Hello why are you not working\n",
            "https://drive.google.com/open?id=1V2ncuLUasw13JkJZyEZqggbAKbQX4drH\n",
            "file id: 1V2ncuLUasw13JkJZyEZqggbAKbQX4drH\n",
            "file name: IMG-20240607-WA0027 - Rushikesh Aoley.jpg\n",
            "The file name is: IMG-20240607-WA0027 - Rushikesh Aoley.jpg\n",
            "Hello image writing\n",
            " https://drive.google.com/open?id=1saiMCIBTXSrcQd8LJRbB8HjEvhwVOZzW\n",
            "file id: 1saiMCIBTXSrcQd8LJRbB8HjEvhwVOZzW\n",
            "file name: IMG-20240607-WA0024 - Rushikesh Aoley.jpg\n",
            "The file name is: IMG-20240607-WA0024 - Rushikesh Aoley.jpg\n",
            "Hello image writing\n",
            " https://drive.google.com/open?id=1FCuhLH0u_eZm6r-UnmGozKC3-ZHRjAFK\n",
            "file id: 1FCuhLH0u_eZm6r-UnmGozKC3-ZHRjAFK\n",
            "file name: IMG-20240607-WA0025 - Rushikesh Aoley.jpg\n",
            "The file name is: IMG-20240607-WA0025 - Rushikesh Aoley.jpg\n",
            "Hello image writing\n",
            "image_path ['https://drive.google.com/open?id=1UehXaiAm-lZKDEg5xIbNbcMbkAeN3Emz', ' https://drive.google.com/open?id=1XeFzk6--LgjOws6LaGl5YYT6ymK5z51k']\n",
            "Hello why are you not working\n",
            "https://drive.google.com/open?id=1UehXaiAm-lZKDEg5xIbNbcMbkAeN3Emz\n",
            "file id: 1UehXaiAm-lZKDEg5xIbNbcMbkAeN3Emz\n",
            "file name: IMG-20240614-WA0004 - Shakti Sagar.jpg\n",
            "The file name is: IMG-20240614-WA0004 - Shakti Sagar.jpg\n",
            "Hello image writing\n",
            " https://drive.google.com/open?id=1XeFzk6--LgjOws6LaGl5YYT6ymK5z51k\n",
            "file id: 1XeFzk6--LgjOws6LaGl5YYT6ymK5z51k\n",
            "file name: IMG-20240614-WA0006 - Shakti Sagar.jpg\n",
            "The file name is: IMG-20240614-WA0006 - Shakti Sagar.jpg\n",
            "Hello image writing\n",
            "image_path ['https://drive.google.com/open?id=1BsQU3cpubfa32eXy0qYOPGHnNmVfAlNl', ' https://drive.google.com/open?id=1kW-xtHgp_tzbZ_AUPaJX7Sy7OET1Nhgh', ' https://drive.google.com/open?id=1Dpu9s7EIsTyapi1Bse_qY0zxneEetlYY']\n",
            "Hello why are you not working\n",
            "https://drive.google.com/open?id=1BsQU3cpubfa32eXy0qYOPGHnNmVfAlNl\n",
            "file id: 1BsQU3cpubfa32eXy0qYOPGHnNmVfAlNl\n",
            "file name: IMG-20240614-WA0011 - Shakti Sagar.jpg\n",
            "The file name is: IMG-20240614-WA0011 - Shakti Sagar.jpg\n",
            "Hello image writing\n",
            " https://drive.google.com/open?id=1kW-xtHgp_tzbZ_AUPaJX7Sy7OET1Nhgh\n",
            "file id: 1kW-xtHgp_tzbZ_AUPaJX7Sy7OET1Nhgh\n",
            "file name: IMG-20240615-WA0012 - Shakti Sagar.jpg\n",
            "The file name is: IMG-20240615-WA0012 - Shakti Sagar.jpg\n",
            "Hello image writing\n",
            " https://drive.google.com/open?id=1Dpu9s7EIsTyapi1Bse_qY0zxneEetlYY\n",
            "file id: 1Dpu9s7EIsTyapi1Bse_qY0zxneEetlYY\n",
            "file name: IMG-20240615-WA0022 - Shakti Sagar.jpg\n",
            "The file name is: IMG-20240615-WA0022 - Shakti Sagar.jpg\n",
            "Hello image writing\n",
            "image_path ['https://drive.google.com/open?id=1HcaQkmUseFcNDc9n7nLmJtErreKL7jls', ' https://drive.google.com/open?id=1YBSJI19kl_VBmsrArGFTYfyqfRFeq7qe']\n",
            "Hello why are you not working\n",
            "https://drive.google.com/open?id=1HcaQkmUseFcNDc9n7nLmJtErreKL7jls\n",
            "file id: 1HcaQkmUseFcNDc9n7nLmJtErreKL7jls\n",
            "file name: IMG_0030 - Rupali khambayat.jpeg\n",
            "The file name is: IMG_0030 - Rupali khambayat.jpeg\n",
            "Hello image writing\n",
            " https://drive.google.com/open?id=1YBSJI19kl_VBmsrArGFTYfyqfRFeq7qe\n",
            "file id: 1YBSJI19kl_VBmsrArGFTYfyqfRFeq7qe\n",
            "file name: IMG_0031 - Rupali khambayat.jpeg\n",
            "The file name is: IMG_0031 - Rupali khambayat.jpeg\n",
            "Hello image writing\n",
            "image_path ['https://drive.google.com/open?id=1CbXPyDR1d3xzu236lyMzEjTXtVF-eIAV', ' https://drive.google.com/open?id=1W8Yib6fqEcH0bLUT5AExxW8zt8AbXh6s']\n",
            "Hello why are you not working\n",
            "https://drive.google.com/open?id=1CbXPyDR1d3xzu236lyMzEjTXtVF-eIAV\n",
            "file id: 1CbXPyDR1d3xzu236lyMzEjTXtVF-eIAV\n",
            "file name: WhatsApp Image 2024-06-14 at 3.53.40 PM - sunil jaisinghani.jpeg\n",
            "The file name is: WhatsApp Image 2024-06-14 at 3.53.40 PM - sunil jaisinghani.jpeg\n",
            "Hello image writing\n",
            " https://drive.google.com/open?id=1W8Yib6fqEcH0bLUT5AExxW8zt8AbXh6s\n",
            "file id: 1W8Yib6fqEcH0bLUT5AExxW8zt8AbXh6s\n",
            "file name: WhatsApp Image 2024-06-14 at 3.51.37 PM - sunil jaisinghani.jpeg\n",
            "The file name is: WhatsApp Image 2024-06-14 at 3.51.37 PM - sunil jaisinghani.jpeg\n",
            "Hello image writing\n",
            "image_path ['https://drive.google.com/open?id=1PZd5aePn8ocgfxB7WC35PS7_E8eJbw0u', ' https://drive.google.com/open?id=1nc3uuaQgjhmZlBGnuOg5cWTY94IrsuC7']\n",
            "Hello why are you not working\n",
            "https://drive.google.com/open?id=1PZd5aePn8ocgfxB7WC35PS7_E8eJbw0u\n",
            "file id: 1PZd5aePn8ocgfxB7WC35PS7_E8eJbw0u\n",
            "file name: IMG-20240528-WA0005 - Praag Bhardwaj.jpg\n",
            "The file name is: IMG-20240528-WA0005 - Praag Bhardwaj.jpg\n",
            "Hello image writing\n",
            " https://drive.google.com/open?id=1nc3uuaQgjhmZlBGnuOg5cWTY94IrsuC7\n",
            "file id: 1nc3uuaQgjhmZlBGnuOg5cWTY94IrsuC7\n",
            "file name: IMG-20240528-WA0002 - Praag Bhardwaj.jpg\n",
            "The file name is: IMG-20240528-WA0002 - Praag Bhardwaj.jpg\n",
            "Hello image writing\n"
          ]
        }
      ],
      "source": [
        "for state, group in sorted_df.groupby('State'):\n",
        "    #print(state,group)\n",
        "    with doc.create(Section(state)):\n",
        "        #to add column with number of participants\n",
        "        # total_participants = group['No_of_participants'].sum()\n",
        "        # print(\"doc create\")\n",
        "        total_participants = 1000 #temp\n",
        "        num_venues = group['State'].nunique()\n",
        "        doc.append(NoEscape(f\"Outreach: {total_participants}\\n\"))\n",
        "        doc.append(NoEscape(f\"\\nVenue: {num_venues}\\n\"))\n",
        "\n",
        "        for index, row in group.iterrows():\n",
        "          image_path = row['Upload Max 2 Pictures of the Event'].split(',')\n",
        "          print(\"image_path\",image_path)\n",
        "          print(\"Hello why are you not working\")\n",
        "          for images in image_path:\n",
        "            print(images)\n",
        "            drive_link = convert_drive_link(images)\n",
        "            try:\n",
        "              file_id = extract_file_id(drive_link)\n",
        "              print(\"file id:\",file_id)\n",
        "              file_name = get_file_name(file_id)\n",
        "              print(\"file name:\",file_name)\n",
        "              print(f'The file name is: {file_name}')\n",
        "            except Exception as e:\n",
        "              print(f'An error occurred: {str(e)}')\n",
        "              continue #change\n",
        "            # Check if the file is an image\n",
        "            # if file_name.endswith('.jpg') or file_name.endswith('.jpeg') or file_name.endswith('.png'):\n",
        "            file_path = r'/content/gdrive/MyDrive/SSY_SEVA_24/National Pics/'+file_name\n",
        "            # Add the image\n",
        "            with doc.create(Figure(position='h!')) as fig:\n",
        "              print(\"Hello image writing\")\n",
        "              fig.add_image(file_path, width=NoEscape(r'0.8\\textwidth'))\n",
        "              # fig.add_image(file_path, width='100px')\n",
        "              venue_name = 'Venue/Institute Name (Name of the place where event was organised)\\n'\n",
        "              city_name = 'City/Town Organised in\\n'\n",
        "              fig.add_caption(f\"{row[venue_name]},{row[city_name]}\")\n",
        "              # fig.append(NoEscape(r'\\centering'))\n",
        "              fig.append(Command('vspace','0.3cm'))"
      ]
    },
    {
      "cell_type": "code",
      "source": [
        "doc.generate_pdf(r'/content/gdrive/MyDrive/SSY_SEVA_24/idk', clean_tex=False)"
      ],
      "metadata": {
        "colab": {
          "base_uri": "https://localhost:8080/",
          "height": 141
        },
        "id": "o8fK7jzw3OtT",
        "outputId": "e492b577-b18b-4ce2-d390-39fce89e509e"
      },
      "execution_count": 56,
      "outputs": [
        {
          "output_type": "error",
          "ename": "SyntaxError",
          "evalue": "unterminated string literal (detected at line 1) (<ipython-input-56-a227252ca05e>, line 1)",
          "traceback": [
            "\u001b[0;36m  File \u001b[0;32m\"<ipython-input-56-a227252ca05e>\"\u001b[0;36m, line \u001b[0;32m1\u001b[0m\n\u001b[0;31m    doc.generate_pdf(r'/content/gdrive/MyDrive/SSY_SEVA_24/idk', clean_tex=False,compiler='xelatex)\u001b[0m\n\u001b[0m                                                                                          ^\u001b[0m\n\u001b[0;31mSyntaxError\u001b[0m\u001b[0;31m:\u001b[0m unterminated string literal (detected at line 1)\n"
          ]
        }
      ]
    }
  ]
}